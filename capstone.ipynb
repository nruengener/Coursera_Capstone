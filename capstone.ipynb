{
 "cells": [
  {
   "cell_type": "markdown",
   "metadata": {},
   "source": [
    "### Capstone Project\n",
    "This notebook is mainly used for the capstone project of the 'Applied Data Science' course."
   ]
  },
  {
   "cell_type": "markdown",
   "metadata": {
    "pycharm": {
     "name": "#%% md\n"
    }
   },
   "source": [
    "installations"
   ]
  },
  {
   "cell_type": "code",
   "execution_count": 31,
   "metadata": {
    "pycharm": {
     "is_executing": false,
     "name": "#%%\n"
    }
   },
   "outputs": [
    {
     "name": "stdout",
     "text": [
      "Requirement already satisfied: pandas in /home/nando/workspace/test/react-course/week1/venv/lib/python3.7/site-packages (0.25.3)\r\n",
      "Requirement already satisfied: pytz>=2017.2 in /home/nando/workspace/test/react-course/week1/venv/lib/python3.7/site-packages (from pandas) (2019.3)\r\n",
      "Requirement already satisfied: numpy>=1.13.3 in /home/nando/workspace/test/react-course/week1/venv/lib/python3.7/site-packages (from pandas) (1.17.4)\r\n",
      "Requirement already satisfied: python-dateutil>=2.6.1 in /home/nando/workspace/test/react-course/week1/venv/lib/python3.7/site-packages (from pandas) (2.8.1)\r\n",
      "Requirement already satisfied: six>=1.5 in /home/nando/workspace/test/react-course/week1/venv/lib/python3.7/site-packages (from python-dateutil>=2.6.1->pandas) (1.13.0)\r\n",
      "Requirement already satisfied: numpy in /home/nando/workspace/test/react-course/week1/venv/lib/python3.7/site-packages (1.17.4)\r\n"
     ],
     "output_type": "stream"
    }
   ],
   "source": [
    "import sys\n",
    "!{sys.executable} -m pip install pandas\n",
    "!{sys.executable} -m pip install numpy"
   ]
  },
  {
   "cell_type": "code",
   "execution_count": 32,
   "metadata": {
    "pycharm": {
     "is_executing": false
    }
   },
   "outputs": [
    {
     "name": "stdout",
     "text": [
      "Hello Capstone Project Course!\n"
     ],
     "output_type": "stream"
    }
   ],
   "source": [
    "import pandas as pd\n",
    "import numpy as np\n",
    "print('Hello Capstone Project Course!')"
   ]
  },
  {
   "cell_type": "code",
   "execution_count": 33,
   "metadata": {
    "pycharm": {
     "is_executing": false
    }
   },
   "outputs": [
    {
     "name": "stdout",
     "text": [
      "Crime dataset contains 141 unique neighbourhoods.\n"
     ],
     "output_type": "stream"
    }
   ],
   "source": [
    "df_crime = pd.read_csv('MCI_2014_to_2018.csv')\n",
    "print(\"Crime dataset contains %d unique neighbourhoods.\" % len(df_crime['Neighbourhood'].unique()))\n",
    "# df_crime.head()"
   ]
  },
  {
   "cell_type": "code",
   "execution_count": 34,
   "metadata": {
    "pycharm": {
     "is_executing": false
    }
   },
   "outputs": [
    {
     "data": {
      "text/plain": "                                       X     Y  Index_  event_unique_id  \\\nNeighbourhood                                                             \nAgincourt North (129)               1008  1008    1008             1008   \nAgincourt South-Malvern West (128)  1331  1331    1331             1331   \nAlderwood (20)                       460   460     460              460   \nAnnex (95)                          2908  2908    2908             2908   \nBanbury-Don Mills (42)               938   938     938              938   \n\n                                    occurrencedate  reporteddate  premisetype  \\\nNeighbourhood                                                                   \nAgincourt North (129)                         1008          1008         1008   \nAgincourt South-Malvern West (128)            1331          1331         1331   \nAlderwood (20)                                 460           460          460   \nAnnex (95)                                    2908          2908         2908   \nBanbury-Don Mills (42)                         938           938          938   \n\n                                    ucr_code  ucr_ext  offence  ...  \\\nNeighbourhood                                                   ...   \nAgincourt North (129)                   1008     1008     1008  ...   \nAgincourt South-Malvern West (128)      1331     1331     1331  ...   \nAlderwood (20)                           460      460      460  ...   \nAnnex (95)                              2908     2908     2908  ...   \nBanbury-Don Mills (42)                   938      938      938  ...   \n\n                                    occurrenceday  occurrencedayofyear  \\\nNeighbourhood                                                            \nAgincourt North (129)                        1008                 1008   \nAgincourt South-Malvern West (128)           1330                 1330   \nAlderwood (20)                                460                  460   \nAnnex (95)                                   2908                 2908   \nBanbury-Don Mills (42)                        938                  938   \n\n                                    occurrencedayofweek  occurrencehour   MCI  \\\nNeighbourhood                                                                   \nAgincourt North (129)                              1008            1008  1008   \nAgincourt South-Malvern West (128)                 1330            1331  1331   \nAlderwood (20)                                      460             460   460   \nAnnex (95)                                         2908            2908  2908   \nBanbury-Don Mills (42)                              938             938   938   \n\n                                    Division  Hood_ID   Lat  Long  ObjectId  \nNeighbourhood                                                                \nAgincourt North (129)                   1008     1008  1008  1008      1008  \nAgincourt South-Malvern West (128)      1331     1331  1331  1331      1331  \nAlderwood (20)                           460      460   460   460       460  \nAnnex (95)                              2908     2908  2908  2908      2908  \nBanbury-Don Mills (42)                   938      938   938   938       938  \n\n[5 rows x 28 columns]",
      "text/html": "<div>\n<style scoped>\n    .dataframe tbody tr th:only-of-type {\n        vertical-align: middle;\n    }\n\n    .dataframe tbody tr th {\n        vertical-align: top;\n    }\n\n    .dataframe thead th {\n        text-align: right;\n    }\n</style>\n<table border=\"1\" class=\"dataframe\">\n  <thead>\n    <tr style=\"text-align: right;\">\n      <th></th>\n      <th>X</th>\n      <th>Y</th>\n      <th>Index_</th>\n      <th>event_unique_id</th>\n      <th>occurrencedate</th>\n      <th>reporteddate</th>\n      <th>premisetype</th>\n      <th>ucr_code</th>\n      <th>ucr_ext</th>\n      <th>offence</th>\n      <th>...</th>\n      <th>occurrenceday</th>\n      <th>occurrencedayofyear</th>\n      <th>occurrencedayofweek</th>\n      <th>occurrencehour</th>\n      <th>MCI</th>\n      <th>Division</th>\n      <th>Hood_ID</th>\n      <th>Lat</th>\n      <th>Long</th>\n      <th>ObjectId</th>\n    </tr>\n    <tr>\n      <th>Neighbourhood</th>\n      <th></th>\n      <th></th>\n      <th></th>\n      <th></th>\n      <th></th>\n      <th></th>\n      <th></th>\n      <th></th>\n      <th></th>\n      <th></th>\n      <th></th>\n      <th></th>\n      <th></th>\n      <th></th>\n      <th></th>\n      <th></th>\n      <th></th>\n      <th></th>\n      <th></th>\n      <th></th>\n      <th></th>\n    </tr>\n  </thead>\n  <tbody>\n    <tr>\n      <th>Agincourt North (129)</th>\n      <td>1008</td>\n      <td>1008</td>\n      <td>1008</td>\n      <td>1008</td>\n      <td>1008</td>\n      <td>1008</td>\n      <td>1008</td>\n      <td>1008</td>\n      <td>1008</td>\n      <td>1008</td>\n      <td>...</td>\n      <td>1008</td>\n      <td>1008</td>\n      <td>1008</td>\n      <td>1008</td>\n      <td>1008</td>\n      <td>1008</td>\n      <td>1008</td>\n      <td>1008</td>\n      <td>1008</td>\n      <td>1008</td>\n    </tr>\n    <tr>\n      <th>Agincourt South-Malvern West (128)</th>\n      <td>1331</td>\n      <td>1331</td>\n      <td>1331</td>\n      <td>1331</td>\n      <td>1331</td>\n      <td>1331</td>\n      <td>1331</td>\n      <td>1331</td>\n      <td>1331</td>\n      <td>1331</td>\n      <td>...</td>\n      <td>1330</td>\n      <td>1330</td>\n      <td>1330</td>\n      <td>1331</td>\n      <td>1331</td>\n      <td>1331</td>\n      <td>1331</td>\n      <td>1331</td>\n      <td>1331</td>\n      <td>1331</td>\n    </tr>\n    <tr>\n      <th>Alderwood (20)</th>\n      <td>460</td>\n      <td>460</td>\n      <td>460</td>\n      <td>460</td>\n      <td>460</td>\n      <td>460</td>\n      <td>460</td>\n      <td>460</td>\n      <td>460</td>\n      <td>460</td>\n      <td>...</td>\n      <td>460</td>\n      <td>460</td>\n      <td>460</td>\n      <td>460</td>\n      <td>460</td>\n      <td>460</td>\n      <td>460</td>\n      <td>460</td>\n      <td>460</td>\n      <td>460</td>\n    </tr>\n    <tr>\n      <th>Annex (95)</th>\n      <td>2908</td>\n      <td>2908</td>\n      <td>2908</td>\n      <td>2908</td>\n      <td>2908</td>\n      <td>2908</td>\n      <td>2908</td>\n      <td>2908</td>\n      <td>2908</td>\n      <td>2908</td>\n      <td>...</td>\n      <td>2908</td>\n      <td>2908</td>\n      <td>2908</td>\n      <td>2908</td>\n      <td>2908</td>\n      <td>2908</td>\n      <td>2908</td>\n      <td>2908</td>\n      <td>2908</td>\n      <td>2908</td>\n    </tr>\n    <tr>\n      <th>Banbury-Don Mills (42)</th>\n      <td>938</td>\n      <td>938</td>\n      <td>938</td>\n      <td>938</td>\n      <td>938</td>\n      <td>938</td>\n      <td>938</td>\n      <td>938</td>\n      <td>938</td>\n      <td>938</td>\n      <td>...</td>\n      <td>938</td>\n      <td>938</td>\n      <td>938</td>\n      <td>938</td>\n      <td>938</td>\n      <td>938</td>\n      <td>938</td>\n      <td>938</td>\n      <td>938</td>\n      <td>938</td>\n    </tr>\n  </tbody>\n</table>\n<p>5 rows × 28 columns</p>\n</div>"
     },
     "metadata": {},
     "output_type": "execute_result",
     "execution_count": 34
    }
   ],
   "source": [
    "df_crime.groupby('Neighbourhood').count().head()"
   ]
  },
  {
   "cell_type": "code",
   "execution_count": 35,
   "outputs": [
    {
     "data": {
      "text/plain": "   Unnamed: 0                          Neighborhood  Neighborhood Latitude  \\\n0           0                         Rouge,Malvern              43.806686   \n1           1  Highland Creek,Rouge Hill,Port Union              43.784535   \n2           2       Guildwood,Morningside,West Hill              43.763573   \n3           3       Guildwood,Morningside,West Hill              43.763573   \n4           4       Guildwood,Morningside,West Hill              43.763573   \n\n   Neighborhood Longitude                            Venue  Venue Latitude  \\\n0              -79.194353                          Wendy's       43.807448   \n1              -79.160497            Royal Canadian Legion       43.782533   \n2              -79.188711  Swiss Chalet Rotisserie & Grill       43.767697   \n3              -79.188711                G & G Electronics       43.765309   \n4              -79.188711                       Marina Spa       43.766000   \n\n   Venue Longitude        Venue Category  \n0       -79.199056  Fast Food Restaurant  \n1       -79.163085                   Bar  \n2       -79.189914           Pizza Place  \n3       -79.191537     Electronics Store  \n4       -79.191000                   Spa  ",
      "text/html": "<div>\n<style scoped>\n    .dataframe tbody tr th:only-of-type {\n        vertical-align: middle;\n    }\n\n    .dataframe tbody tr th {\n        vertical-align: top;\n    }\n\n    .dataframe thead th {\n        text-align: right;\n    }\n</style>\n<table border=\"1\" class=\"dataframe\">\n  <thead>\n    <tr style=\"text-align: right;\">\n      <th></th>\n      <th>Unnamed: 0</th>\n      <th>Neighborhood</th>\n      <th>Neighborhood Latitude</th>\n      <th>Neighborhood Longitude</th>\n      <th>Venue</th>\n      <th>Venue Latitude</th>\n      <th>Venue Longitude</th>\n      <th>Venue Category</th>\n    </tr>\n  </thead>\n  <tbody>\n    <tr>\n      <th>0</th>\n      <td>0</td>\n      <td>Rouge,Malvern</td>\n      <td>43.806686</td>\n      <td>-79.194353</td>\n      <td>Wendy's</td>\n      <td>43.807448</td>\n      <td>-79.199056</td>\n      <td>Fast Food Restaurant</td>\n    </tr>\n    <tr>\n      <th>1</th>\n      <td>1</td>\n      <td>Highland Creek,Rouge Hill,Port Union</td>\n      <td>43.784535</td>\n      <td>-79.160497</td>\n      <td>Royal Canadian Legion</td>\n      <td>43.782533</td>\n      <td>-79.163085</td>\n      <td>Bar</td>\n    </tr>\n    <tr>\n      <th>2</th>\n      <td>2</td>\n      <td>Guildwood,Morningside,West Hill</td>\n      <td>43.763573</td>\n      <td>-79.188711</td>\n      <td>Swiss Chalet Rotisserie &amp; Grill</td>\n      <td>43.767697</td>\n      <td>-79.189914</td>\n      <td>Pizza Place</td>\n    </tr>\n    <tr>\n      <th>3</th>\n      <td>3</td>\n      <td>Guildwood,Morningside,West Hill</td>\n      <td>43.763573</td>\n      <td>-79.188711</td>\n      <td>G &amp; G Electronics</td>\n      <td>43.765309</td>\n      <td>-79.191537</td>\n      <td>Electronics Store</td>\n    </tr>\n    <tr>\n      <th>4</th>\n      <td>4</td>\n      <td>Guildwood,Morningside,West Hill</td>\n      <td>43.763573</td>\n      <td>-79.188711</td>\n      <td>Marina Spa</td>\n      <td>43.766000</td>\n      <td>-79.191000</td>\n      <td>Spa</td>\n    </tr>\n  </tbody>\n</table>\n</div>"
     },
     "metadata": {},
     "output_type": "execute_result",
     "execution_count": 35
    }
   ],
   "source": [
    "df_venues = pd.read_csv('toronto_venues.csv')\n",
    "df_venues.head()"
   ],
   "metadata": {
    "collapsed": false,
    "pycharm": {
     "name": "#%%\n",
     "is_executing": false
    }
   }
  },
  {
   "cell_type": "code",
   "execution_count": 35,
   "outputs": [],
   "source": [
    "\n"
   ],
   "metadata": {
    "collapsed": false,
    "pycharm": {
     "name": "#%%\n",
     "is_executing": false
    }
   }
  }
 ],
 "metadata": {
  "kernelspec": {
   "display_name": "Python 3",
   "language": "python",
   "name": "python3"
  },
  "language_info": {
   "codemirror_mode": {
    "name": "ipython",
    "version": 3
   },
   "file_extension": ".py",
   "mimetype": "text/x-python",
   "name": "python",
   "nbconvert_exporter": "python",
   "pygments_lexer": "ipython3",
   "version": "3.7.4"
  },
  "pycharm": {
   "stem_cell": {
    "cell_type": "raw",
    "source": [],
    "metadata": {
     "collapsed": false
    }
   }
  }
 },
 "nbformat": 4,
 "nbformat_minor": 2
}
